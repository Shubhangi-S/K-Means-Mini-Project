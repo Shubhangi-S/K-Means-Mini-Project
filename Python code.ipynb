{
 "cells": [
  {
   "cell_type": "code",
   "execution_count": 113,
   "metadata": {},
   "outputs": [],
   "source": [
    "# K Means Clustering\n",
    "import pandas as pd\n",
    "import numpy as np\n",
    "import matplotlib.pyplot as plt\n",
    "import random\n",
    "import copy"
   ]
  },
  {
   "cell_type": "code",
   "execution_count": 114,
   "metadata": {},
   "outputs": [
    {
     "name": "stdout",
     "output_type": "stream",
     "text": [
      "<bound method DataFrame.count of         attr1      attr2  cluster\n",
      "0   -6.428571  -7.784725        0\n",
      "1    1.138598   1.839405        3\n",
      "2    0.285980  -3.313499        2\n",
      "3    5.082734  -3.334183        1\n",
      "4    0.854200 -10.567261        0\n",
      "..        ...        ...      ...\n",
      "495  6.801513  -4.724746        1\n",
      "496  1.605694  -4.317907        2\n",
      "497  1.107768   4.773266        3\n",
      "498 -1.075868  -7.556290        0\n",
      "499  6.325713  -4.985838        1\n",
      "\n",
      "[500 rows x 3 columns]>\n"
     ]
    },
    {
     "data": {
      "image/png": "[encoded data removed]",
      "text/plain": [
       "<Figure size 432x288 with 1 Axes>"
      ]
     },
     "metadata": {
      "needs_background": "light"
     },
     "output_type": "display_data"
    },
    {
     "name": "stdout",
     "output_type": "stream",
     "text": [
      "[133, 457, 460, 286]\n"
     ]
    }
   ],
   "source": [
    "# Initialization\n",
    "df = pd.read_excel('C:/Users/shubh/Downloads/clustering.data.xlsx')\n",
    "K=4\n",
    "print(df.count)\n",
    "N=500 \n",
    "# initial scatter plot\n",
    "plt.scatter(df[\"attr1\"], df[\"attr2\"])\n",
    "plt.show()\n",
    "\n",
    "# coordinates dictionary\n",
    "col1 =df[\"attr1\"].values.tolist()\n",
    "col2 = df[\"attr2\"].values.tolist()\n",
    "coordict = {}\n",
    "\n",
    "for i in range(N):\n",
    "    coordict[i] = [col1[i],col2[i]]\n",
    "# print(coordict)\n",
    "\n",
    "# random cluster initial points\n",
    "# c1=random.randint(0,N-1)\n",
    "# c2=random.randint(0,N-1)\n",
    "# c3=random.randint(0,N-1)\n",
    "# c4=random.randint(0,N-1)\n",
    "initial_cluster_keys = []\n",
    "# since my dictionary keys range from 0 to 499, random initial keys should be 0<=random int<=499\n",
    "for i in range(K):\n",
    "    initial_cluster_keys.append(random.randint(0,N-1))\n",
    "print(initial_cluster_keys)"
   ]
  },
  {
   "cell_type": "code",
   "execution_count": 115,
   "metadata": {},
   "outputs": [
    {
     "name": "stdout",
     "output_type": "stream",
     "text": [
      "500\n",
      "        attr1      attr2  cluster  nearest_cluster\n",
      "0   -6.428571  -7.784725        0                2\n",
      "1    1.138598   1.839405        3                3\n",
      "2    0.285980  -3.313499        2                1\n",
      "3    5.082734  -3.334183        1                1\n",
      "4    0.854200 -10.567261        0                2\n",
      "..        ...        ...      ...              ...\n",
      "495  6.801513  -4.724746        1                1\n",
      "496  1.605694  -4.317907        2                1\n",
      "497  1.107768   4.773266        3                3\n",
      "498 -1.075868  -7.556290        0                2\n",
      "499  6.325713  -4.985838        1                1\n",
      "\n",
      "[500 rows x 4 columns]\n"
     ]
    }
   ],
   "source": [
    "# Assignment Stage\n",
    "# n represents each point\n",
    "nearest_cluster = []\n",
    "for n in coordict:\n",
    "    centroids =[]\n",
    "    for centroid in initial_cluster_keys:\n",
    "        euc_dist = pow(((pow((coordict[n][0]-coordict[centroid][0]),2)) + (pow((coordict[n][1]-coordict[centroid][1]),2))), 0.5)\n",
    "        centroids.append(euc_dist)\n",
    "    # print(\"smallest distance between point n and this centroid is\", min(centroids))\n",
    "    # print(\"index of this value is\", index.euc_dist(min(centroids)))\n",
    "    # print(centroids)\n",
    "    # print(\"this point is closest to centroid no. \", centroids.index(min(centroids)))\n",
    "    nearest_cluster.append(centroids.index(min(centroids)))\n",
    "print(len(nearest_cluster))\n",
    "df[\"nearest_cluster\"]= nearest_cluster\n",
    "print(df)"
   ]
  },
  {
   "cell_type": "code",
   "execution_count": 116,
   "metadata": {},
   "outputs": [],
   "source": [
    "# Update centroid - re-calculate the new centroid for each cluster\n",
    "def updatecenter():\n",
    "    new_dict = {}\n",
    "    for i in range(K):\n",
    "        x=np.mean(df[df['nearest_cluster'] == i]['attr1'])\n",
    "        y=np.mean(df[df['nearest_cluster'] == i]['attr2'])\n",
    "        new_dict[i] = x,y\n",
    "    print(new_dict)\n",
    "    return new_dict"
   ]
  },
  {
   "cell_type": "code",
   "execution_count": 117,
   "metadata": {},
   "outputs": [],
   "source": [
    "# iterate the allocation of clusters\n",
    "def iteration(centers):\n",
    "    nearest_center =[]\n",
    "    for n in coordict:\n",
    "        euclidian_distances =[]\n",
    "        for key in centers:\n",
    "            euc_dist_ = pow(((pow((coordict[n][0]-centers[key][0]),2)) + (pow((coordict[n][1]-centers[key][1]),2))), 0.5)\n",
    "            euclidian_distances.append(euc_dist_)\n",
    "        nearest_center.append(euclidian_distances.index(min(euclidian_distances)))\n",
    "    df[\"nearest_cluster\"]= nearest_center\n",
    "    print(df)\n",
    "    return df"
   ]
  },
  {
   "cell_type": "code",
   "execution_count": 118,
   "metadata": {},
   "outputs": [
    {
     "name": "stdout",
     "output_type": "stream",
     "text": [
      "{0: (3.1988515397777784, 2.514364237888889), 1: (4.009489389113407, -4.070985321427833), 2: (-2.188812746754386, -7.707009674216375), 3: (0.19259911214529912, 2.2068726402905985)}\n",
      "        attr1      attr2  cluster  nearest_cluster\n",
      "0   -6.428571  -7.784725        0                2\n",
      "1    1.138598   1.839405        3                3\n",
      "2    0.285980  -3.313499        2                1\n",
      "3    5.082734  -3.334183        1                1\n",
      "4    0.854200 -10.567261        0                2\n",
      "..        ...        ...      ...              ...\n",
      "495  6.801513  -4.724746        1                1\n",
      "496  1.605694  -4.317907        2                1\n",
      "497  1.107768   4.773266        3                3\n",
      "498 -1.075868  -7.556290        0                2\n",
      "499  6.325713  -4.985838        1                1\n",
      "\n",
      "[500 rows x 4 columns]\n",
      "{0: (2.4858134403414627, 2.873855233756098), 1: (4.725058072410719, -4.178481878249999), 2: (-2.056653346010638, -7.378161549292556), 3: (-0.24669798581553412, 1.6217874832718442)}\n",
      "        attr1      attr2  cluster  nearest_cluster\n",
      "0   -6.428571  -7.784725        0                2\n",
      "1    1.138598   1.839405        3                3\n",
      "2    0.285980  -3.313499        2                1\n",
      "3    5.082734  -3.334183        1                1\n",
      "4    0.854200 -10.567261        0                2\n",
      "..        ...        ...      ...              ...\n",
      "495  6.801513  -4.724746        1                1\n",
      "496  1.605694  -4.317907        2                1\n",
      "497  1.107768   4.773266        3                0\n",
      "498 -1.075868  -7.556290        0                2\n",
      "499  6.325713  -4.985838        1                1\n",
      "\n",
      "[500 rows x 4 columns]\n",
      "{0: (2.0377826252033895, 3.0961595226271186), 1: (5.276073212086671, -4.235820918606664), 2: (-1.9094735757676768, -7.23467380009596), 3: (-0.5365269147096775, 0.8705159884193547)}\n",
      "        attr1      attr2  cluster  nearest_cluster\n",
      "0   -6.428571  -7.784725        0                2\n",
      "1    1.138598   1.839405        3                0\n",
      "2    0.285980  -3.313499        2                3\n",
      "3    5.082734  -3.334183        1                1\n",
      "4    0.854200 -10.567261        0                2\n",
      "..        ...        ...      ...              ...\n",
      "495  6.801513  -4.724746        1                1\n",
      "496  1.605694  -4.317907        2                1\n",
      "497  1.107768   4.773266        3                0\n",
      "498 -1.075868  -7.556290        0                2\n",
      "499  6.325713  -4.985838        1                1\n",
      "\n",
      "[500 rows x 4 columns]\n",
      "{0: (1.6276174478684207, 3.1045156493157893), 1: (5.562163925978729, -4.2919640444680836), 2: (-1.8592698436288655, -7.3462090537216485), 3: (-0.7145876888426965, -0.11032420346067409)}\n",
      "        attr1      attr2  cluster  nearest_cluster\n",
      "0   -6.428571  -7.784725        0                2\n",
      "1    1.138598   1.839405        3                0\n",
      "2    0.285980  -3.313499        2                3\n",
      "3    5.082734  -3.334183        1                1\n",
      "4    0.854200 -10.567261        0                2\n",
      "..        ...        ...      ...              ...\n",
      "495  6.801513  -4.724746        1                1\n",
      "496  1.605694  -4.317907        2                1\n",
      "497  1.107768   4.773266        3                0\n",
      "498 -1.075868  -7.556290        0                2\n",
      "499  6.325713  -4.985838        1                1\n",
      "\n",
      "[500 rows x 4 columns]\n",
      "{0: (1.26528080571875, 2.9343530171250003), 1: (5.655959432420295, -4.305806212239128), 2: (-1.9359514067823524, -7.902621643558822), 3: (-0.9292732733333332, -1.5443552541874996)}\n",
      "        attr1      attr2  cluster  nearest_cluster\n",
      "0   -6.428571  -7.784725        0                2\n",
      "1    1.138598   1.839405        3                0\n",
      "2    0.285980  -3.313499        2                3\n",
      "3    5.082734  -3.334183        1                1\n",
      "4    0.854200 -10.567261        0                2\n",
      "..        ...        ...      ...              ...\n",
      "495  6.801513  -4.724746        1                1\n",
      "496  1.605694  -4.317907        2                3\n",
      "497  1.107768   4.773266        3                0\n",
      "498 -1.075868  -7.556290        0                2\n",
      "499  6.325713  -4.985838        1                1\n",
      "\n",
      "[500 rows x 4 columns]\n",
      "{0: (1.0516807944414412, 2.74933291963063), 1: (5.828801101765156, -4.343349771590907), 2: (-1.982326901123376, -8.285626822662335), 3: (-0.9436173321650485, -2.524994223213592)}\n",
      "        attr1      attr2  cluster  nearest_cluster\n",
      "0   -6.428571  -7.784725        0                2\n",
      "1    1.138598   1.839405        3                0\n",
      "2    0.285980  -3.313499        2                3\n",
      "3    5.082734  -3.334183        1                1\n",
      "4    0.854200 -10.567261        0                2\n",
      "..        ...        ...      ...              ...\n",
      "495  6.801513  -4.724746        1                1\n",
      "496  1.605694  -4.317907        2                3\n",
      "497  1.107768   4.773266        3                0\n",
      "498 -1.075868  -7.556290        0                2\n",
      "499  6.325713  -4.985838        1                1\n",
      "\n",
      "[500 rows x 4 columns]\n",
      "{0: (0.899708368475, 2.608022224624999), 1: (5.887258990815389, -4.348982868915384), 2: (-2.02152195545, -8.611197725699997), 3: (-0.9693473966363638, -3.1475851259090892)}\n",
      "        attr1      attr2  cluster  nearest_cluster\n",
      "0   -6.428571  -7.784725        0                2\n",
      "1    1.138598   1.839405        3                0\n",
      "2    0.285980  -3.313499        2                3\n",
      "3    5.082734  -3.334183        1                1\n",
      "4    0.854200 -10.567261        0                2\n",
      "..        ...        ...      ...              ...\n",
      "495  6.801513  -4.724746        1                1\n",
      "496  1.605694  -4.317907        2                3\n",
      "497  1.107768   4.773266        3                0\n",
      "498 -1.075868  -7.556290        0                2\n",
      "499  6.325713  -4.985838        1                1\n",
      "\n",
      "[500 rows x 4 columns]\n",
      "{0: (0.7833114591666667, 2.506550069674603), 1: (5.972836129692918, -4.342187054362203), 2: (-2.1077869705681818, -8.782080398772726), 3: (-0.8291492746173914, -3.559479058165215)}\n",
      "        attr1      attr2  cluster  nearest_cluster\n",
      "0   -6.428571  -7.784725        0                2\n",
      "1    1.138598   1.839405        3                0\n",
      "2    0.285980  -3.313499        2                3\n",
      "3    5.082734  -3.334183        1                1\n",
      "4    0.854200 -10.567261        0                2\n",
      "..        ...        ...      ...              ...\n",
      "495  6.801513  -4.724746        1                1\n",
      "496  1.605694  -4.317907        2                3\n",
      "497  1.107768   4.773266        3                0\n",
      "498 -1.075868  -7.556290        0                2\n",
      "499  6.325713  -4.985838        1                1\n",
      "\n",
      "[500 rows x 4 columns]\n",
      "{0: (0.7632523766535433, 2.4866030128267713), 1: (5.972836129692918, -4.342187054362203), 2: (-2.142633249429687, -8.863608271023438), 3: (-0.8267694809237288, -3.67801796174576)}\n",
      "        attr1      attr2  cluster  nearest_cluster\n",
      "0   -6.428571  -7.784725        0                2\n",
      "1    1.138598   1.839405        3                0\n",
      "2    0.285980  -3.313499        2                3\n",
      "3    5.082734  -3.334183        1                1\n",
      "4    0.854200 -10.567261        0                2\n",
      "..        ...        ...      ...              ...\n",
      "495  6.801513  -4.724746        1                1\n",
      "496  1.605694  -4.317907        2                3\n",
      "497  1.107768   4.773266        3                0\n",
      "498 -1.075868  -7.556290        0                2\n",
      "499  6.325713  -4.985838        1                1\n",
      "\n",
      "[500 rows x 4 columns]\n"
     ]
    }
   ],
   "source": [
    "while True:\n",
    "    nearest_cluster_copy = df['nearest_cluster'].copy(deep=True)\n",
    "    centers = updatecenter()\n",
    "    df1 = iteration(centers)\n",
    "    if nearest_cluster_copy.equals(df1['nearest_cluster']):\n",
    "        break"
   ]
  },
  {
   "cell_type": "code",
   "execution_count": 119,
   "metadata": {},
   "outputs": [
    {
     "name": "stdout",
     "output_type": "stream",
     "text": [
      "finalized dataframe\n",
      "        attr1      attr2  cluster  nearest_cluster\n",
      "0   -6.428571  -7.784725        0                2\n",
      "1    1.138598   1.839405        3                0\n",
      "2    0.285980  -3.313499        2                3\n",
      "3    5.082734  -3.334183        1                1\n",
      "4    0.854200 -10.567261        0                2\n",
      "..        ...        ...      ...              ...\n",
      "495  6.801513  -4.724746        1                1\n",
      "496  1.605694  -4.317907        2                3\n",
      "497  1.107768   4.773266        3                0\n",
      "498 -1.075868  -7.556290        0                2\n",
      "499  6.325713  -4.985838        1                1\n",
      "\n",
      "[500 rows x 4 columns]\n"
     ]
    }
   ],
   "source": [
    "print(\"finalized dataframe\")\n",
    "print(df1)"
   ]
  },
  {
   "cell_type": "code",
   "execution_count": 120,
   "metadata": {},
   "outputs": [
    {
     "name": "stdout",
     "output_type": "stream",
     "text": [
      "        attr1      attr2  cluster  nearest_cluster color\n",
      "0   -6.428571  -7.784725        0                2     k\n",
      "1    1.138598   1.839405        3                0     k\n",
      "2    0.285980  -3.313499        2                3     k\n",
      "3    5.082734  -3.334183        1                1     k\n",
      "4    0.854200 -10.567261        0                2     k\n",
      "..        ...        ...      ...              ...   ...\n",
      "495  6.801513  -4.724746        1                1     k\n",
      "496  1.605694  -4.317907        2                3     k\n",
      "497  1.107768   4.773266        3                0     k\n",
      "498 -1.075868  -7.556290        0                2     k\n",
      "499  6.325713  -4.985838        1                1     k\n",
      "\n",
      "[500 rows x 5 columns]\n"
     ]
    }
   ],
   "source": [
    "# PART 2\n",
    "#colormap = {0: 'r', 1: 'g', 2: 'b', 3: 'y'}\n",
    "color =[]\n",
    "for pos in range(len(df1)):\n",
    "    color.append('k')\n",
    "df1[\"color\"] = color\n",
    "print(df1)    "
   ]
  },
  {
   "cell_type": "code",
   "execution_count": 121,
   "metadata": {},
   "outputs": [
    {
     "name": "stdout",
     "output_type": "stream",
     "text": [
      "        attr1      attr2  cluster  nearest_cluster color\n",
      "0   -6.428571  -7.784725        0                2     g\n",
      "1    1.138598   1.839405        3                0     r\n",
      "2    0.285980  -3.313499        2                3     y\n",
      "3    5.082734  -3.334183        1                1     b\n",
      "4    0.854200 -10.567261        0                2     g\n",
      "..        ...        ...      ...              ...   ...\n",
      "495  6.801513  -4.724746        1                1     b\n",
      "496  1.605694  -4.317907        2                3     y\n",
      "497  1.107768   4.773266        3                0     r\n",
      "498 -1.075868  -7.556290        0                2     g\n",
      "499  6.325713  -4.985838        1                1     b\n",
      "\n",
      "[500 rows x 5 columns]\n"
     ]
    },
    {
     "data": {
      "image/png": "[encoded data removed]",
      "text/plain": [
       "<Figure size 432x288 with 1 Axes>"
      ]
     },
     "metadata": {
      "needs_background": "light"
     },
     "output_type": "display_data"
    }
   ],
   "source": [
    "for pos in range(len(df1)):\n",
    "    if df1.loc[pos, \"nearest_cluster\"]==0:\n",
    "        df1.loc[pos, \"color\"]='r'\n",
    "    elif df1.loc[pos, \"nearest_cluster\"]==1:\n",
    "        df1.loc[pos, \"color\"]='b'\n",
    "    elif df1.loc[pos, \"nearest_cluster\"]==2:\n",
    "        df1.loc[pos, \"color\"]='g'\n",
    "    elif df1.loc[pos, \"nearest_cluster\"]==3:\n",
    "        df1.loc[pos, \"color\"]='y'\n",
    "    else:\n",
    "        print(\"NA\")\n",
    "print(df1)\n",
    "#fig = plt.figure(figsize=(5, 5))\n",
    "plt.scatter(df1['attr1'], df1['attr2'], color=df1['color'], alpha=0.5)\n",
    "plt.show()"
   ]
  },
  {
   "cell_type": "code",
   "execution_count": 122,
   "metadata": {},
   "outputs": [
    {
     "name": "stdout",
     "output_type": "stream",
     "text": [
      "27.0\n",
      "{0: (0.7632523766535433, 2.4866030128267713), 1: (5.972836129692918, -4.342187054362203), 2: (-2.142633249429687, -8.863608271023438), 3: (-0.8267694809237288, -3.67801796174576)}\n"
     ]
    }
   ],
   "source": [
    "#PART 3\n",
    "#accuracy of this clustering algo\n",
    "match = 0\n",
    "for ind in range(len(df1)):\n",
    "    if(df1.loc[ind, \"cluster\"])==(df1.loc[ind, \"nearest_cluster\"]):\n",
    "        match = match + 1\n",
    "    else:\n",
    "        continue\n",
    "accuracy = (match/len(df1))*100\n",
    "print(accuracy)\n",
    "\n",
    "# reporting the estimated centroids of the four estimated clusters\n",
    "print(centers)\n",
    "\n"
   ]
  },
  {
   "cell_type": "code",
   "execution_count": 123,
   "metadata": {},
   "outputs": [
    {
     "name": "stdout",
     "output_type": "stream",
     "text": [
      "         attr1  attr2  nearest_cluster  color\n",
      "cluster                                      \n",
      "0          125    125              125    125\n",
      "1          125    125              125    125\n",
      "2          125    125              125    125\n",
      "3          125    125              125    125\n",
      "                 attr1  attr2  cluster  color\n",
      "nearest_cluster                              \n",
      "0                  127    127      127    127\n",
      "1                  127    127      127    127\n",
      "2                  128    128      128    128\n",
      "3                  118    118      118    118\n",
      "Predicted    0    1    2    3\n",
      "Actual                       \n",
      "0            0    1  119    5\n",
      "1            1  124    0    0\n",
      "2            3    2    9  111\n",
      "3          123    0    0    2\n",
      "<class 'pandas.core.frame.DataFrame'>\n",
      "0.952\n",
      "0.992\n",
      "0.88\n",
      "0.984\n"
     ]
    }
   ],
   "source": [
    "# precision of each cluster\n",
    "\n",
    "# confusion matrix for cluster evaluation \n",
    "\n",
    "print(df1.groupby('cluster').count())\n",
    "print(df1.groupby('nearest_cluster').count())\n",
    "\n",
    "confusion_matrix = pd.crosstab(df1['cluster'], df1['nearest_cluster'], rownames=['Actual'], colnames=['Predicted'])\n",
    "print(confusion_matrix)\n",
    "print(type(confusion_matrix))\n",
    "\n",
    "prec0=119/125\n",
    "print(prec0)\n",
    "prec1=124/125\n",
    "print(prec1)\n",
    "prec2=110/125\n",
    "print(prec2)\n",
    "prec3= 123/125\n",
    "print(prec3)"
   ]
  },
  {
   "cell_type": "markdown",
   "metadata": {},
   "source": []
  },
  {
   "cell_type": "code",
   "execution_count": 124,
   "metadata": {},
   "outputs": [],
   "source": [
    "#writing df1 to excel\n",
    "from pandas import ExcelWriter\n",
    "\n",
    "writer = ExcelWriter('final.xlsx')\n",
    "df1.to_excel(writer,'Sheet1')\n",
    "writer.save()"
   ]
  },
  {
   "cell_type": "code",
   "execution_count": 125,
   "metadata": {},
   "outputs": [],
   "source": [
    "#reference -https://stackoverflow.com/questions/29459461/dataframe-to-excel-sheet\n",
    "#https://benalexkeen.com/k-means-clustering-in-python/"
   ]
  },
  {
   "cell_type": "code",
   "execution_count": 126,
   "metadata": {},
   "outputs": [
    {
     "name": "stdout",
     "output_type": "stream",
     "text": [
      "Predicted    0    1    2    3\n",
      "Actual                       \n",
      "0            0    1  119    5\n",
      "1            1  124    0    0\n",
      "2            3    2    9  111\n",
      "3          123    0    0    2\n",
      "<class 'pandas.core.frame.DataFrame'>\n",
      "[0, 1, 119, 5]\n"
     ]
    },
    {
     "ename": "TypeError",
     "evalue": "'numpy.int64' object is not callable",
     "output_type": "error",
     "traceback": [
      "\u001b[1;31m---------------------------------------------------------------------------\u001b[0m",
      "\u001b[1;31mTypeError\u001b[0m                                 Traceback (most recent call last)",
      "\u001b[1;32m<ipython-input-126-341185ce7964>\u001b[0m in \u001b[0;36m<module>\u001b[1;34m\u001b[0m\n\u001b[0;32m      9\u001b[0m         \u001b[0mmylist\u001b[0m\u001b[1;33m.\u001b[0m\u001b[0mappend\u001b[0m\u001b[1;33m(\u001b[0m\u001b[0mconfusion_matrix\u001b[0m\u001b[1;33m.\u001b[0m\u001b[0mloc\u001b[0m\u001b[1;33m[\u001b[0m\u001b[0mi\u001b[0m\u001b[1;33m,\u001b[0m \u001b[0midx\u001b[0m\u001b[1;33m[\u001b[0m\u001b[0mj\u001b[0m\u001b[1;33m]\u001b[0m\u001b[1;33m]\u001b[0m\u001b[1;33m)\u001b[0m\u001b[1;33m\u001b[0m\u001b[1;33m\u001b[0m\u001b[0m\n\u001b[0;32m     10\u001b[0m     \u001b[0mprint\u001b[0m\u001b[1;33m(\u001b[0m\u001b[0mmylist\u001b[0m\u001b[1;33m)\u001b[0m\u001b[1;33m\u001b[0m\u001b[1;33m\u001b[0m\u001b[0m\n\u001b[1;32m---> 11\u001b[1;33m     \u001b[0mmaximum\u001b[0m\u001b[1;33m=\u001b[0m \u001b[0mmax\u001b[0m\u001b[1;33m(\u001b[0m\u001b[0mmylist\u001b[0m\u001b[1;33m)\u001b[0m\u001b[1;33m\u001b[0m\u001b[1;33m\u001b[0m\u001b[0m\n\u001b[0m\u001b[0;32m     12\u001b[0m     \u001b[0mprint\u001b[0m\u001b[1;33m(\u001b[0m\u001b[0mmaximum\u001b[0m\u001b[1;33m)\u001b[0m\u001b[1;33m\u001b[0m\u001b[1;33m\u001b[0m\u001b[0m\n\u001b[0;32m     13\u001b[0m     \u001b[0mprec\u001b[0m\u001b[1;33m=\u001b[0m\u001b[0mmaximum\u001b[0m\u001b[1;33m/\u001b[0m\u001b[1;36m125\u001b[0m\u001b[1;33m\u001b[0m\u001b[1;33m\u001b[0m\u001b[0m\n",
      "\u001b[1;31mTypeError\u001b[0m: 'numpy.int64' object is not callable"
     ]
    }
   ],
   "source": [
    "#another way to calculate the precision for each cluster\n",
    "confusion_matrix = pd.crosstab(df1['cluster'], df1['nearest_cluster'], rownames=['Actual'], colnames=['Predicted'])\n",
    "print(confusion_matrix)\n",
    "print(type(confusion_matrix))\n",
    "idx = pd.IndexSlice\n",
    "for i in range(K):\n",
    "    mylist =[]\n",
    "    for j in range(K):\n",
    "        mylist.append(confusion_matrix.loc[i, idx[j]])\n",
    "    print(mylist)\n",
    "    maximum= max(mylist)\n",
    "    print(maximum)\n",
    "    prec=maximum/125\n",
    "    print(\"precision for cluster#\",i,\"is: \",prec)"
   ]
  },
  {
   "cell_type": "code",
   "execution_count": null,
   "metadata": {},
   "outputs": [],
   "source": []
  },
  {
   "cell_type": "code",
   "execution_count": null,
   "metadata": {},
   "outputs": [],
   "source": []
  },
  {
   "cell_type": "code",
   "execution_count": null,
   "metadata": {},
   "outputs": [],
   "source": []
  }
 ],
 "metadata": {
  "kernelspec": {
   "display_name": "Python 3",
   "language": "python",
   "name": "python3"
  },
  "language_info": {
   "codemirror_mode": {
    "name": "ipython",
    "version": 3
   },
   "file_extension": ".py",
   "mimetype": "text/x-python",
   "name": "python",
   "nbconvert_exporter": "python",
   "pygments_lexer": "ipython3",
   "version": "3.7.4"
  }
 },
 "nbformat": 4,
 "nbformat_minor": 4
}
